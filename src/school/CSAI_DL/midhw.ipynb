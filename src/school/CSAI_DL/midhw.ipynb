{
  "cells": [
    {
      "cell_type": "code",
      "execution_count": null,
      "metadata": {},
      "outputs": [],
      "source": [
        "\"\"\"\n",
        "Install dependencies\n",
        "\"\"\"\n",
        "\n",
        "%pip install torch pandas matplotlib scikit-learn"
      ]
    },
    {
      "cell_type": "code",
      "execution_count": 1,
      "metadata": {
        "id": "ez-0X7_JHwjl"
      },
      "outputs": [],
      "source": [
        "\"\"\"\n",
        "Importing Libraries       \n",
        "\"\"\"\n",
        "\n",
        "import torch\n",
        "import torch.nn as nn\n",
        "import torch.optim as optim\n",
        "import pandas as pd\n",
        "import matplotlib.pyplot as plt\n",
        "import os\n",
        "from sklearn.preprocessing import PolynomialFeatures"
      ]
    },
    {
      "cell_type": "code",
      "execution_count": null,
      "metadata": {
        "colab": {
          "base_uri": "https://localhost:8080/"
        },
        "id": "bT4Z7dm8Icr0",
        "outputId": "c682bc61-5591-4ac5-fd1e-f7c50e02481b"
      },
      "outputs": [],
      "source": [
        "#if not os.path.exists('/training_data.csv'): # 如果不存在 training_data.csv 檔案，則下載\n",
        "print('Downloading training data...')\n",
        "!curl -o /training_data.csv \"https://cdn.weikuwu.me/src/school/CSAI_DL/midhw.csv\"\n",
        "# 此行使用 curl 指令來下載數據檔案，並將其存儲為 training_data.csv 檔案\n",
        "#previously using wget\n",
        "\n",
        "data = pd.read_csv('/training_data.csv') # 載入CSV檔案\n",
        "X = data['X'].values.reshape(-1, 1) # 提取X欄並轉換形狀 [~, 1]\n",
        "Y = data['Y'].values # 提取Y欄\n",
        "\n",
        "poly = PolynomialFeatures(degree=3)  # 設定多項式特徵變換\n",
        "X_poly = poly.fit_transform(X) # 將 X 轉換為多項式特徵\n",
        "\n",
        "X_tensor = torch.tensor(X_poly, dtype=torch.float32) # 將 X_poly 轉換為張量\n",
        "Y_tensor = torch.tensor(Y, dtype=torch.float32).unsqueeze(1) # 將 Y 轉換為張量並增加維度 [~, 1]\n",
        "\n"
      ]
    },
    {
      "cell_type": "code",
      "execution_count": 16,
      "metadata": {
        "id": "Ln6nFdtkf2Ff"
      },
      "outputs": [],
      "source": [
        "# 定義多項式回歸模型類別\n",
        "class PolynomialRegressionModel(nn.Module):\n",
        "    # 初始化模型，input_dim 是輸入的特徵維度\n",
        "    def __init__(self, input_dim):\n",
        "        super(PolynomialRegressionModel, self).__init__() # 繼承 nn.Module 的初始化方法\n",
        "        self.linear = nn.Linear(input_dim, 1)  # 定義線性層，將輸入特徵映射到一個輸出\n",
        "\n",
        "    # 定義前向傳播方法\n",
        "    def forward(self, x):\n",
        "        return self.linear(x)  # 返回線性層的輸出\n",
        "\n",
        "# 創建模型實例，輸入維度為 X_tensor 的特徵數\n",
        "model = PolynomialRegressionModel(X_tensor.shape[1]) # X_tensor.shape[1] 獲取特徵數量\n",
        "criterion = nn.MSELoss() # 定義損失函數為均方誤差 (Mean Squared Error)\n",
        "optimizer = optim.Adam(model.parameters(), lr=0.01) # 定義優化器，使用 Adam 算法，並設定學習率為 0.01\n",
        "\n",
        "\n",
        "# class NeuralNetModel(nn.Module):\n",
        "#     def __init__(self):\n",
        "#         super(NeuralNetModel, self).__init__()\n",
        "#         self.layer1 = nn.Linear(1, 10) \n",
        "#         self.layer2 = nn.Linear(10, 10)  \n",
        "#         self.layer3 = nn.Linear(10, 1) \n",
        "        \n",
        "#         self.relu = nn.ReLU()  \n",
        "\n",
        "#     def forward(self, x):\n",
        "#         x = self.relu(self.layer1(x))\n",
        "#         x = self.relu(self.layer2(x))\n",
        "#         x = self.layer3(x)\n",
        "#         return x"
      ]
    },
    {
      "cell_type": "code",
      "execution_count": null,
      "metadata": {
        "colab": {
          "base_uri": "https://localhost:8080/"
        },
        "id": "57xbaPsnf8a_",
        "outputId": "8bd28e67-0acb-4075-ea0b-47b5e82c6bda"
      },
      "outputs": [],
      "source": [
        "epochs = 1500 # 設定訓練的總輪次（epoch）\n",
        "# consider overfitting?\n",
        "\n",
        "for epoch in range(epochs):\n",
        "    model.train()  # 設定模型為訓練模式，這樣會啟用 Dropout 和 Batch Normalization 等訓練時的操作\n",
        "\n",
        "    y_pred = model(X_tensor)  # 使用模型對輸入的特徵 X_tensor 進行預測，得到預測值 y_pred\n",
        "\n",
        "    loss = criterion(y_pred, Y_tensor)  # 計算loss，這裡使用loss函數 criterion 比較預測值 y_pred 和實際標籤 Y_tensor 之間的差異\n",
        "\n",
        "    optimizer.zero_grad()  # 將之前的梯度清零，因為 PyTorch 預設會累積梯度\n",
        "    loss.backward()  # 反向傳播，計算loss對模型參數的梯度\n",
        "    optimizer.step()  # 根據計算出的梯度更新模型參數\n",
        "\n",
        "    if (epoch+1) % 100 == 0:\n",
        "        print(f'Epoch {epoch+1}/{epochs}, Loss: {loss.item():.10f}')\n"
      ]
    },
    {
      "cell_type": "code",
      "execution_count": 22,
      "metadata": {
        "id": "7FGQ3VCof-If"
      },
      "outputs": [],
      "source": [
        "model.eval() # 設定模型為評估模式，這會停用 Dropout 和 Batch Normalization 等訓練期間的操作\n",
        "with torch.no_grad(): # 在這個上下文中禁用梯度計算，因為我們不需要在評估時計算梯度\n",
        "    predicted = model(X_tensor).squeeze().numpy()  # 使用模型對輸入特徵 X_tensor 進行預測，並轉換為 NumPy 陣列"
      ]
    },
    {
      "cell_type": "code",
      "execution_count": null,
      "metadata": {
        "colab": {
          "base_uri": "https://localhost:8080/",
          "height": 564
        },
        "id": "WJ62x6ylf_WS",
        "outputId": "7d327558-cd95-4e2c-b03b-feb05a4c80e3"
      },
      "outputs": [],
      "source": [
        "sorted_indices = X.flatten().argsort() # 獲取 X 的index，使其能夠按照值的大小排序\n",
        "X_sorted = X[sorted_indices] # 根據排序的index對 X 進行排序\n",
        "predicted_sorted = predicted[sorted_indices] # 根據排序的index對預測結果進行排序\n",
        "\n",
        "plt.figure(figsize=(10,6)) # 設定圖形的大小\n",
        "plt.scatter(X, Y, label='Original Data', color='blue')# 繪製原始數據的散點圖\n",
        "plt.plot(X_sorted, predicted_sorted, label='Fitted Polynomial Line', color='red') # 繪製擬合的多項式回歸線\n",
        "plt.xlabel('X') # 設定 x 軸標籤\n",
        "plt.ylabel('Y') # 設定 y 軸標籤\n",
        "plt.legend()  # 顯示圖例\n",
        "plt.show()  # 顯示圖形"
      ]
    },
    {
      "cell_type": "code",
      "execution_count": null,
      "metadata": {},
      "outputs": [],
      "source": [
        "import numpy as np\n",
        "\n",
        "\n",
        "try:\n",
        "    x_input = float(input(\"Enter a value of X to predict Y: \"))\n",
        "    \n",
        "    # Transform input using the same polynomial features as used in training\n",
        "    x_input_poly = poly.transform(np.array([[x_input]]))  # poly is the PolynomialFeatures instance\n",
        "\n",
        "    # Convert to tensor for PyTorch model\n",
        "    x_input_tensor = torch.tensor(x_input_poly, dtype=torch.float32)\n",
        "    \n",
        "    # Make prediction\n",
        "    model.eval()\n",
        "    with torch.no_grad():\n",
        "        y_output = model(x_input_tensor).item()\n",
        "\n",
        "    # Display the result\n",
        "    print(f\"Predicted Y for X={x_input} is: {y_output:.4f}\")\n",
        "    \n",
        "except ValueError:\n",
        "    print(\"Invalid input. Please enter a numeric value for X.\")"
      ]
    }
  ],
  "metadata": {
    "colab": {
      "provenance": []
    },
    "kernelspec": {
      "display_name": "Python 3",
      "name": "python3"
    },
    "language_info": {
      "codemirror_mode": {
        "name": "ipython",
        "version": 3
      },
      "file_extension": ".py",
      "mimetype": "text/x-python",
      "name": "python",
      "nbconvert_exporter": "python",
      "pygments_lexer": "ipython3",
      "version": "3.9.1"
    }
  },
  "nbformat": 4,
  "nbformat_minor": 0
}
